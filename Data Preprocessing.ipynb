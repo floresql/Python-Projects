{
 "cells": [
  {
   "cell_type": "markdown",
   "id": "4f2e4192-9efd-433f-9597-8591bdcdb684",
   "metadata": {},
   "source": [
    "# Data Preprocessing with Python\n",
    "\n",
    "Data preprocessing is a crucial step in preparing raw data for analysis or modeling. This process includes cleaning, transforming, and standardizing data. Below, you'll find an overview and implementation of a typical preprocessing workflow in Python.\n",
    "\n",
    "### Steps:\n",
    "\n",
    "1. **Load the Data**\n",
    "   - Use `pandas` to load and explore the dataset.\n",
    "   - Check for missing values, duplicates, and overall structure:\n",
    "     ```python\n",
    "     import pandas as pd\n",
    "     df = pd.read_csv(\"data.csv\")  # Replace \"data.csv\" with your dataset\n",
    "     print(df.info())  # Overview of the dataset\n",
    "     print(df.head())  # First few rows of the dataset\n",
    "     ```\n",
    "\n",
    "2. **Handle Missing Values**\n",
    "   - Identify missing data and decide whether to drop or fill missing values:\n",
    "     ```python\n",
    "     print(df.isnull().sum())  # Count missing values in each column\n",
    "     df = df.dropna()  # Option 1: Remove rows with missing values\n",
    "     # Option 2: Fill missing values\n",
    "     df[\"column_name\"].fillna(df[\"column_name\"].mean(), inplace=True)\n",
    "     ```\n",
    "\n",
    "3. **Remove Duplicates**\n",
    "   - Check and remove duplicate rows to ensure data quality:\n",
    "     ```python\n",
    "     df = df.drop_duplicates()\n",
    "     ```\n",
    "\n",
    "4. **Feature Scaling**\n",
    "   - Normalize or standardize features to bring them to a similar scale:\n",
    "     ```python\n",
    "     from sklearn.preprocessing import StandardScaler\n",
    "     scaler = StandardScaler()\n",
    "     df[[\"feature1\", \"feature2\"]] = scaler.fit_transform(df[[\"feature1\", \"feature2\"]])\n",
    "     ```\n",
    "\n",
    "5. **Categorical Encoding**\n",
    "   - Convert categorical variables into numeric formats using one-hot encoding or label encoding:\n",
    "     ```python\n",
    "     # One-Hot Encoding\n",
    "     df = pd.get_dummies(df, columns=[\"categorical_column\"])\n",
    "     \n",
    "     # Label Encoding\n",
    "     from sklearn.preprocessing import LabelEncoder\n",
    "     encoder = LabelEncoder()\n",
    "     df[\"categorical_column\"] = encoder.fit_transform(df[\"categorical_column\"])\n",
    "     ```\n",
    "\n",
    "6. **Feature Engineering**\n",
    "   - Create new features or transform existing ones to add value:\n",
    "     ```python\n",
    "     df[\"new_feature\"] = df[\"feature1\"] / df[\"feature2\"]\n",
    "     ```\n",
    "\n",
    "7. **Split Data for Training and Testing**\n",
    "   - Prepare the dataset for modeling by splitting it into training and testing sets:\n",
    "     ```python\n",
    "     from sklearn.model_selection import train_test_split\n",
    "     X = df.drop(\"target_column\", axis=1)\n",
    "     y = df[\"target_column\"]\n",
    "     X_train, X_test, y_train, y_test = train_test_split(X, y, test_size=0.2, random_state=42)\n",
    "     ```\n",
    "\n",
    "### Example Implementation\n",
    "Below is a complete example of a preprocessing pipeline:\n"
   ]
  },
  {
   "cell_type": "code",
   "execution_count": 6,
   "id": "ee543be9-422e-41fc-bb2c-c0389f6f8fa1",
   "metadata": {},
   "outputs": [],
   "source": [
    "import pandas as pd\n",
    "import numpy as np\n",
    "from sklearn.preprocessing import StandardScaler\n",
    "\n",
    "def data_preprocessing_pipeline(data):\n",
    "    #Identify numeric and categorical features\n",
    "    numeric_features = data.select_dtypes(include=['float', 'int']).columns\n",
    "    categorical_features = data.select_dtypes(include=['object']).columns\n",
    "\n",
    "    #Handle missing values in numeric features\n",
    "    data[numeric_features] = data[numeric_features].fillna(data[numeric_features].mean())\n",
    "\n",
    "    #Detect and handle outliers in numeric features using IQR\n",
    "    for feature in numeric_features:\n",
    "        Q1 = data[feature].quantile(0.25)\n",
    "        Q3 = data[feature].quantile(0.75)\n",
    "        IQR = Q3 - Q1\n",
    "        lower_bound = Q1 - (1.5 * IQR)\n",
    "        upper_bound = Q3 + (1.5 * IQR)\n",
    "        data[feature] = np.where((data[feature] < lower_bound) | (data[feature] > upper_bound),\n",
    "                                 data[feature].mean(), data[feature])\n",
    "\n",
    "    #Normalize numeric features\n",
    "    scaler = StandardScaler()\n",
    "    scaled_data = scaler.fit_transform(data[numeric_features])\n",
    "    data[numeric_features] = scaler.transform(data[numeric_features])\n",
    "\n",
    "    #Handle missing values in categorical features\n",
    "    data[categorical_features] = data[categorical_features].fillna(data[categorical_features].mode().iloc[0])\n",
    "\n",
    "    return data"
   ]
  },
  {
   "cell_type": "markdown",
   "id": "c1b8154c-bbdd-470b-b883-0fe85f009cd8",
   "metadata": {},
   "source": [
    "Let’s have a look at the sample data first:"
   ]
  },
  {
   "cell_type": "code",
   "execution_count": 8,
   "id": "42654230-4fd6-4798-912d-0d3ffc3d2b01",
   "metadata": {},
   "outputs": [
    {
     "name": "stdout",
     "output_type": "stream",
     "text": [
      "Original Data:\n",
      "   NumericFeature1  NumericFeature2 CategoricalFeature\n",
      "0              1.0                7                  A\n",
      "1              2.0                8                  B\n",
      "2              NaN                9                NaN\n",
      "3              4.0               10                  A\n",
      "4              5.0               11                  B\n",
      "5              6.0               50                  C\n"
     ]
    }
   ],
   "source": [
    "data = pd.read_csv(\"data.csv\")\n",
    "\n",
    "print(\"Original Data:\")\n",
    "print(data)"
   ]
  },
  {
   "cell_type": "markdown",
   "id": "468cb0bf-f446-4e88-a27b-a3ad5c653964",
   "metadata": {},
   "source": [
    "### And here’s how you can use this pipeline to perform all the preprocessing steps using Python:"
   ]
  },
  {
   "cell_type": "code",
   "execution_count": 10,
   "id": "26b05bc8-1594-4b10-b4e9-210cc752828f",
   "metadata": {},
   "outputs": [
    {
     "name": "stdout",
     "output_type": "stream",
     "text": [
      "Preprocessed Data:\n",
      "   NumericFeature1  NumericFeature2 CategoricalFeature\n",
      "0        -1.535624        -1.099370                  A\n",
      "1        -0.944999        -0.749128                  B\n",
      "2         0.000000        -0.398886                  A\n",
      "3         0.236250        -0.048645                  A\n",
      "4         0.826874         0.301597                  B\n",
      "5         1.417499         1.994431                  C\n"
     ]
    }
   ],
   "source": [
    "#Perform data preprocessing\n",
    "cleaned_data = data_preprocessing_pipeline(data)\n",
    "\n",
    "print(\"Preprocessed Data:\")\n",
    "print(cleaned_data)"
   ]
  },
  {
   "cell_type": "code",
   "execution_count": null,
   "id": "d978c7ad-9af7-4983-a739-4cda8a393edf",
   "metadata": {},
   "outputs": [],
   "source": []
  }
 ],
 "metadata": {
  "kernelspec": {
   "display_name": "Python 3 (ipykernel)",
   "language": "python",
   "name": "python3"
  },
  "language_info": {
   "codemirror_mode": {
    "name": "ipython",
    "version": 3
   },
   "file_extension": ".py",
   "mimetype": "text/x-python",
   "name": "python",
   "nbconvert_exporter": "python",
   "pygments_lexer": "ipython3",
   "version": "3.11.7"
  }
 },
 "nbformat": 4,
 "nbformat_minor": 5
}
