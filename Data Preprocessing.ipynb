{
 "cells": [
  {
   "cell_type": "markdown",
   "id": "4f2e4192-9efd-433f-9597-8591bdcdb684",
   "metadata": {},
   "source": [
    "# Data Preprocessing Pipeline in Python\n",
    "\n",
    "This pipeline demonstrates a systematic approach to preprocess a dataset using `pandas`, `numpy`, and `scikit-learn`. It includes handling missing values, detecting and handling outliers, and normalizing numeric features.\n",
    "\n",
    "### Steps:\n",
    "\n",
    "1. **Identify Numeric and Categorical Features**\n",
    "   - Use `pandas` to separate numeric and categorical columns:\n",
    "     - Numeric: Columns with data types `float` or `int`.\n",
    "     - Categorical: Columns with the data type `object`.\n",
    "\n",
    "2. **Handle Missing Values**\n",
    "   - For numeric features, replace missing values with the column mean.\n",
    "   - For categorical features, replace missing values with the most frequent value (mode).\n",
    "\n",
    "3. **Detect and Handle Outliers in Numeric Features**\n",
    "   - Use the **Interquartile Range (IQR)** to identify outliers:\n",
    "     - Calculate the first quartile (`Q1`) and third quartile (`Q3`).\n",
    "     - Define the lower and upper bounds as:\n",
    "       - Lower bound = `Q1 - 1.5 * IQR`\n",
    "       - Upper bound = `Q3 + 1.5 * IQR`\n",
    "     - Replace outliers with the column mean.\n",
    "\n",
    "4. **Normalize Numeric Features**\n",
    "   - Use `StandardScaler` from `scikit-learn` to standardize numeric features, ensuring all features have a mean of 0 and a standard deviation of 1.\n",
    "\n",
    "5. **Return the Processed Data**\n",
    "   - The processed dataset is returned with missing values addressed, outliers handled, and numeric features normalized.\n",
    "\n",
    "### Example Implementation\n",
    "#### Below is a complete example of a preprocessing pipeline:\n"
   ]
  },
  {
   "cell_type": "code",
   "execution_count": 6,
   "id": "ee543be9-422e-41fc-bb2c-c0389f6f8fa1",
   "metadata": {},
   "outputs": [],
   "source": [
    "import pandas as pd\n",
    "import numpy as np\n",
    "from sklearn.preprocessing import StandardScaler\n",
    "\n",
    "def data_preprocessing_pipeline(data):\n",
    "    #Identify numeric and categorical features\n",
    "    numeric_features = data.select_dtypes(include=['float', 'int']).columns\n",
    "    categorical_features = data.select_dtypes(include=['object']).columns\n",
    "\n",
    "    #Handle missing values in numeric features\n",
    "    data[numeric_features] = data[numeric_features].fillna(data[numeric_features].mean())\n",
    "\n",
    "    #Detect and handle outliers in numeric features using IQR\n",
    "    for feature in numeric_features:\n",
    "        Q1 = data[feature].quantile(0.25)\n",
    "        Q3 = data[feature].quantile(0.75)\n",
    "        IQR = Q3 - Q1\n",
    "        lower_bound = Q1 - (1.5 * IQR)\n",
    "        upper_bound = Q3 + (1.5 * IQR)\n",
    "        data[feature] = np.where((data[feature] < lower_bound) | (data[feature] > upper_bound),\n",
    "                                 data[feature].mean(), data[feature])\n",
    "\n",
    "    #Normalize numeric features\n",
    "    scaler = StandardScaler()\n",
    "    scaled_data = scaler.fit_transform(data[numeric_features])\n",
    "    data[numeric_features] = scaler.transform(data[numeric_features])\n",
    "\n",
    "    #Handle missing values in categorical features\n",
    "    data[categorical_features] = data[categorical_features].fillna(data[categorical_features].mode().iloc[0])\n",
    "\n",
    "    return data"
   ]
  },
  {
   "cell_type": "markdown",
   "id": "c1b8154c-bbdd-470b-b883-0fe85f009cd8",
   "metadata": {},
   "source": [
    "#### Let’s have a look at the sample data first:"
   ]
  },
  {
   "cell_type": "code",
   "execution_count": 8,
   "id": "42654230-4fd6-4798-912d-0d3ffc3d2b01",
   "metadata": {},
   "outputs": [
    {
     "name": "stdout",
     "output_type": "stream",
     "text": [
      "Original Data:\n",
      "   NumericFeature1  NumericFeature2 CategoricalFeature\n",
      "0              1.0                7                  A\n",
      "1              2.0                8                  B\n",
      "2              NaN                9                NaN\n",
      "3              4.0               10                  A\n",
      "4              5.0               11                  B\n",
      "5              6.0               50                  C\n"
     ]
    }
   ],
   "source": [
    "data = pd.read_csv(\"data.csv\")\n",
    "\n",
    "print(\"Original Data:\")\n",
    "print(data)"
   ]
  },
  {
   "cell_type": "markdown",
   "id": "468cb0bf-f446-4e88-a27b-a3ad5c653964",
   "metadata": {},
   "source": [
    "#### And here’s how you can use this pipeline to perform all the preprocessing steps using Python:"
   ]
  },
  {
   "cell_type": "code",
   "execution_count": 10,
   "id": "26b05bc8-1594-4b10-b4e9-210cc752828f",
   "metadata": {},
   "outputs": [
    {
     "name": "stdout",
     "output_type": "stream",
     "text": [
      "Preprocessed Data:\n",
      "   NumericFeature1  NumericFeature2 CategoricalFeature\n",
      "0        -1.535624        -1.099370                  A\n",
      "1        -0.944999        -0.749128                  B\n",
      "2         0.000000        -0.398886                  A\n",
      "3         0.236250        -0.048645                  A\n",
      "4         0.826874         0.301597                  B\n",
      "5         1.417499         1.994431                  C\n"
     ]
    }
   ],
   "source": [
    "#Perform data preprocessing\n",
    "cleaned_data = data_preprocessing_pipeline(data)\n",
    "\n",
    "print(\"Preprocessed Data:\")\n",
    "print(cleaned_data)"
   ]
  },
  {
   "cell_type": "code",
   "execution_count": null,
   "id": "d978c7ad-9af7-4983-a739-4cda8a393edf",
   "metadata": {},
   "outputs": [],
   "source": []
  }
 ],
 "metadata": {
  "kernelspec": {
   "display_name": "Python 3 (ipykernel)",
   "language": "python",
   "name": "python3"
  },
  "language_info": {
   "codemirror_mode": {
    "name": "ipython",
    "version": 3
   },
   "file_extension": ".py",
   "mimetype": "text/x-python",
   "name": "python",
   "nbconvert_exporter": "python",
   "pygments_lexer": "ipython3",
   "version": "3.11.7"
  }
 },
 "nbformat": 4,
 "nbformat_minor": 5
}
