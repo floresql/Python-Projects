{
 "cells": [
  {
   "cell_type": "markdown",
   "id": "3038bdf4-14cb-4893-894a-c2e5ed1a1862",
   "metadata": {},
   "source": [
    "# Data Visualization with Pandas, Plotly, Matplotlib, and Seaborn\n",
    "\n",
    "This example demonstrates how to analyze and visualize the relationship between Instagram likes and impressions using Python libraries such as `pandas`, `numpy`, `plotly.express`, `matplotlib`, and `seaborn`.\n",
    "\n",
    "### Steps:\n",
    "\n",
    "1. **Import Libraries**\n",
    "   - Import necessary libraries for data manipulation (`pandas` and `numpy`) and visualization (`plotly.express`, `matplotlib`, and `seaborn`).\n",
    "\n",
    "2. **Load and Clean Data**\n",
    "   - Use `pandas` to load a dataset from a URL containing Instagram metrics.\n",
    "   - Drop missing values using the `dropna()` method to ensure a clean dataset.\n",
    "\n",
    "3. **Explore Data**\n",
    "   - Use `print(data.head())` to view the first few rows of the dataset.\n",
    "\n",
    "4. **Scatter Plot with Plotly**\n",
    "   - Create an interactive scatter plot to visualize the relationship between likes and impressions.\n",
    "   - Use `px.scatter()` with arguments for the x-axis (`Impressions`), y-axis (`Likes`), and size (`Likes`).\n",
    "   - Add a trendline using `trendline=\"ols\"`.\n",
    "\n",
    "5. **Regression Plot with Seaborn**\n",
    "   - Use Seaborn’s `regplot` to visualize the regression line for the relationship.\n",
    "   - Style the plot with `plt.style.use()` and set its size with `plt.figure()`."
   ]
  },
  {
   "cell_type": "markdown",
   "id": "cefedbd2-f954-457a-b4db-420ae29dfbc1",
   "metadata": {},
   "source": [
    "### Example Code:"
   ]
  },
  {
   "cell_type": "code",
   "execution_count": 6,
   "id": "a0bf411e-3ef6-4f8a-95f6-daa60b605684",
   "metadata": {},
   "outputs": [
    {
     "name": "stdout",
     "output_type": "stream",
     "text": [
      "   Impressions  From Home  From Hashtags  From Explore  From Other  Saves  \\\n",
      "0       3920.0     2586.0         1028.0         619.0        56.0   98.0   \n",
      "1       5394.0     2727.0         1838.0        1174.0        78.0  194.0   \n",
      "2       4021.0     2085.0         1188.0           0.0       533.0   41.0   \n",
      "3       4528.0     2700.0          621.0         932.0        73.0  172.0   \n",
      "4       2518.0     1704.0          255.0         279.0        37.0   96.0   \n",
      "\n",
      "   Comments  Shares  Likes  Profile Visits  Follows  \\\n",
      "0       9.0     5.0  162.0            35.0      2.0   \n",
      "1       7.0    14.0  224.0            48.0     10.0   \n",
      "2      11.0     1.0  131.0            62.0     12.0   \n",
      "3      10.0     7.0  213.0            23.0      8.0   \n",
      "4       5.0     4.0  123.0             8.0      0.0   \n",
      "\n",
      "                                             Caption  \\\n",
      "0  Here are some of the most important data visua...   \n",
      "1  Here are some of the best data science project...   \n",
      "2  Learn how to train a machine learning model an...   \n",
      "3  Heres how you can write a Python program to d...   \n",
      "4  Plotting annotations while visualizing your da...   \n",
      "\n",
      "                                            Hashtags  \n",
      "0  #finance #money #business #investing #investme...  \n",
      "1  #healthcare #health #covid #data #datascience ...  \n",
      "2  #data #datascience #dataanalysis #dataanalytic...  \n",
      "3  #python #pythonprogramming #pythonprojects #py...  \n",
      "4  #datavisualization #datascience #data #dataana...  \n"
     ]
    }
   ],
   "source": [
    "# Import Libraries\n",
    "import pandas as pd\n",
    "import numpy as np\n",
    "import plotly.express as px\n",
    "import matplotlib.pyplot as plt\n",
    "import seaborn as sns\n",
    "\n",
    "# Load Dataset\n",
    "data = pd.read_csv(\"https://raw.githubusercontent.com/amankharwal/Website-data/master/Instagram.csv\", encoding='latin1')\n",
    "data = data.dropna()  # Drop missing values\n",
    "print(data.head())  # Display the first few rows"
   ]
  },
  {
   "cell_type": "markdown",
   "id": "c5e4a392-7b8e-4d48-95da-817b393077b4",
   "metadata": {},
   "source": [
    "### Here’s how to visualize linear relationships by using the plotly library in Python:"
   ]
  },
  {
   "cell_type": "code",
   "execution_count": 11,
   "id": "2e38217a-0d99-41b0-be94-3f0917eda790",
   "metadata": {},
   "outputs": [
    {
     "data": {
      "application/vnd.plotly.v1+json": {
       "config": {
        "plotlyServerURL": "https://plot.ly"
       },
       "data": [
        {
         "hovertemplate": "Impressions=%{x}<br>Likes=%{marker.size}<extra></extra>",
         "legendgroup": "",
         "marker": {
          "color": "#636efa",
          "size": [
           162,
           224,
           131,
           213,
           123,
           144,
           76,
           124,
           159,
           191,
           81,
           151,
           162,
           142,
           294,
           159,
           205,
           121,
           151,
           72,
           76,
           91,
           195,
           129,
           160,
           175,
           147,
           114,
           151,
           92,
           214,
           150,
           122,
           152,
           196,
           86,
           85,
           156,
           72,
           82,
           416,
           180,
           150,
           127,
           167,
           225,
           137,
           114,
           263,
           328,
           126,
           236,
           99,
           212,
           297,
           142,
           186,
           112,
           149,
           132,
           115,
           248,
           178,
           107,
           269,
           96,
           134,
           301,
           187,
           94,
           114,
           96,
           138,
           122,
           257,
           95,
           244,
           190,
           118,
           178,
           170,
           250,
           159,
           205,
           121,
           151,
           72,
           137,
           114,
           263,
           328,
           126,
           129,
           160,
           175,
           147,
           114,
           151,
           92
          ],
          "sizemode": "area",
          "sizeref": 1.04,
          "symbol": "circle"
         },
         "mode": "markers",
         "name": "",
         "orientation": "v",
         "showlegend": false,
         "type": "scatter",
         "x": [
          3920,
          5394,
          4021,
          4528,
          2518,
          3884,
          2621,
          3541,
          3749,
          4115,
          2218,
          3234,
          4344,
          3216,
          9453,
          5055,
          4002,
          3169,
          6168,
          2407,
          2064,
          3973,
          7281,
          3052,
          4628,
          4082,
          5394,
          2766,
          3924,
          3015,
          6666,
          3854,
          4355,
          4343,
          6108,
          2523,
          2327,
          3990,
          2191,
          1941,
          16062,
          4998,
          4289,
          3880,
          3786,
          4298,
          3630,
          2826,
          7407,
          10386,
          2998,
          7018,
          2941,
          6432,
          10667,
          3988,
          4978,
          3388,
          4467,
          3246,
          5072,
          6339,
          4239,
          3454,
          7571,
          3333,
          3818,
          10933,
          5058,
          3601,
          3480,
          3525,
          3606,
          5542,
          6559,
          3623,
          10493,
          4446,
          2957,
          5538,
          4681,
          5273,
          5055,
          4002,
          3169,
          6168,
          2407,
          3630,
          2826,
          7407,
          10386,
          2998,
          3052,
          4628,
          4082,
          5394,
          2766,
          3924,
          3015
         ],
         "xaxis": "x",
         "y": [
          162,
          224,
          131,
          213,
          123,
          144,
          76,
          124,
          159,
          191,
          81,
          151,
          162,
          142,
          294,
          159,
          205,
          121,
          151,
          72,
          76,
          91,
          195,
          129,
          160,
          175,
          147,
          114,
          151,
          92,
          214,
          150,
          122,
          152,
          196,
          86,
          85,
          156,
          72,
          82,
          416,
          180,
          150,
          127,
          167,
          225,
          137,
          114,
          263,
          328,
          126,
          236,
          99,
          212,
          297,
          142,
          186,
          112,
          149,
          132,
          115,
          248,
          178,
          107,
          269,
          96,
          134,
          301,
          187,
          94,
          114,
          96,
          138,
          122,
          257,
          95,
          244,
          190,
          118,
          178,
          170,
          250,
          159,
          205,
          121,
          151,
          72,
          137,
          114,
          263,
          328,
          126,
          129,
          160,
          175,
          147,
          114,
          151,
          92
         ],
         "yaxis": "y"
        },
        {
         "hovertemplate": "<b>OLS trendline</b><br>Likes = 0.0253784 * Impressions + 42.4728<br>R<sup>2</sup>=0.803312<br><br>Impressions=%{x}<br>Likes=%{y} <b>(trend)</b><extra></extra>",
         "legendgroup": "",
         "marker": {
          "color": "#636efa",
          "symbol": "circle"
         },
         "mode": "lines",
         "name": "",
         "showlegend": false,
         "type": "scatter",
         "x": [
          1941,
          2064,
          2191,
          2218,
          2327,
          2407,
          2407,
          2518,
          2523,
          2621,
          2766,
          2766,
          2826,
          2826,
          2941,
          2957,
          2998,
          2998,
          3015,
          3015,
          3052,
          3052,
          3169,
          3169,
          3216,
          3234,
          3246,
          3333,
          3388,
          3454,
          3480,
          3525,
          3541,
          3601,
          3606,
          3623,
          3630,
          3630,
          3749,
          3786,
          3818,
          3854,
          3880,
          3884,
          3920,
          3924,
          3924,
          3973,
          3988,
          3990,
          4002,
          4002,
          4021,
          4082,
          4082,
          4115,
          4239,
          4289,
          4298,
          4343,
          4344,
          4355,
          4446,
          4467,
          4528,
          4628,
          4628,
          4681,
          4978,
          4998,
          5055,
          5055,
          5058,
          5072,
          5273,
          5394,
          5394,
          5394,
          5538,
          5542,
          6108,
          6168,
          6168,
          6339,
          6432,
          6559,
          6666,
          7018,
          7281,
          7407,
          7407,
          7571,
          9453,
          10386,
          10386,
          10493,
          10667,
          10933,
          16062
         ],
         "xaxis": "x",
         "y": [
          91.73221896254907,
          94.8537606451956,
          98.07681587849731,
          98.76203234541973,
          101.52827660077318,
          103.55854761387661,
          103.55854761387661,
          106.37554864455764,
          106.5024405828766,
          108.98952257392833,
          112.66938878517831,
          112.66938878517831,
          114.1920920450059,
          114.1920920450059,
          117.11060662634209,
          117.51666082896278,
          118.55717472317829,
          118.55717472317829,
          118.98860731346278,
          118.98860731346278,
          119.92760765702312,
          119.92760765702312,
          122.8968790136869,
          122.8968790136869,
          124.08966323388518,
          124.54647421183344,
          124.85101486379897,
          127.05893459054896,
          128.45474591205758,
          130.1297194978679,
          130.78955757712652,
          131.93158502199722,
          132.3376392246179,
          133.86034248444548,
          133.98723442276446,
          134.41866701304895,
          134.59631572669548,
          134.59631572669548,
          137.61634385868686,
          138.5553442022472,
          139.3674526074886,
          140.28107456338512,
          140.94091264264375,
          141.04242619329892,
          141.95604814919545,
          142.05756169985062,
          142.05756169985062,
          143.3011026953765,
          143.6817785103334,
          143.73253528566096,
          144.0370759376265,
          144.0370759376265,
          144.51926530323857,
          146.06734695072993,
          146.06734695072993,
          146.9048337436351,
          150.05175381394542,
          151.32067319713508,
          151.54907868610923,
          152.6911061309799,
          152.7164845186437,
          152.9956467829454,
          155.30508006035058,
          155.83802620129023,
          157.38610784878162,
          159.92394661516093,
          159.92394661516093,
          161.26900116134198,
          168.80638229748848,
          169.31395005076433,
          170.76051814760055,
          170.76051814760055,
          170.83665331059194,
          171.19195073788504,
          176.29300665830743,
          179.36379156562637,
          179.36379156562637,
          179.36379156562637,
          183.01827938921258,
          183.11979293986775,
          197.4839603575746,
          199.00666361740218,
          199.00666361740218,
          203.3463679079108,
          205.70655796064355,
          208.92961319394527,
          211.64510067397111,
          220.57829313162625,
          227.25280908720381,
          230.45048593284176,
          230.45048593284176,
          234.61254150970382,
          282.3746670929623,
          306.0527027832811,
          306.0527027832811,
          308.768190263307,
          313.184029716807,
          319.93468083537596,
          450.1004311629704
         ],
         "yaxis": "y"
        }
       ],
       "layout": {
        "autosize": true,
        "legend": {
         "itemsizing": "constant",
         "tracegroupgap": 0
        },
        "template": {
         "data": {
          "bar": [
           {
            "error_x": {
             "color": "#2a3f5f"
            },
            "error_y": {
             "color": "#2a3f5f"
            },
            "marker": {
             "line": {
              "color": "#E5ECF6",
              "width": 0.5
             },
             "pattern": {
              "fillmode": "overlay",
              "size": 10,
              "solidity": 0.2
             }
            },
            "type": "bar"
           }
          ],
          "barpolar": [
           {
            "marker": {
             "line": {
              "color": "#E5ECF6",
              "width": 0.5
             },
             "pattern": {
              "fillmode": "overlay",
              "size": 10,
              "solidity": 0.2
             }
            },
            "type": "barpolar"
           }
          ],
          "carpet": [
           {
            "aaxis": {
             "endlinecolor": "#2a3f5f",
             "gridcolor": "white",
             "linecolor": "white",
             "minorgridcolor": "white",
             "startlinecolor": "#2a3f5f"
            },
            "baxis": {
             "endlinecolor": "#2a3f5f",
             "gridcolor": "white",
             "linecolor": "white",
             "minorgridcolor": "white",
             "startlinecolor": "#2a3f5f"
            },
            "type": "carpet"
           }
          ],
          "choropleth": [
           {
            "colorbar": {
             "outlinewidth": 0,
             "ticks": ""
            },
            "type": "choropleth"
           }
          ],
          "contour": [
           {
            "colorbar": {
             "outlinewidth": 0,
             "ticks": ""
            },
            "colorscale": [
             [
              0,
              "#0d0887"
             ],
             [
              0.1111111111111111,
              "#46039f"
             ],
             [
              0.2222222222222222,
              "#7201a8"
             ],
             [
              0.3333333333333333,
              "#9c179e"
             ],
             [
              0.4444444444444444,
              "#bd3786"
             ],
             [
              0.5555555555555556,
              "#d8576b"
             ],
             [
              0.6666666666666666,
              "#ed7953"
             ],
             [
              0.7777777777777778,
              "#fb9f3a"
             ],
             [
              0.8888888888888888,
              "#fdca26"
             ],
             [
              1,
              "#f0f921"
             ]
            ],
            "type": "contour"
           }
          ],
          "contourcarpet": [
           {
            "colorbar": {
             "outlinewidth": 0,
             "ticks": ""
            },
            "type": "contourcarpet"
           }
          ],
          "heatmap": [
           {
            "colorbar": {
             "outlinewidth": 0,
             "ticks": ""
            },
            "colorscale": [
             [
              0,
              "#0d0887"
             ],
             [
              0.1111111111111111,
              "#46039f"
             ],
             [
              0.2222222222222222,
              "#7201a8"
             ],
             [
              0.3333333333333333,
              "#9c179e"
             ],
             [
              0.4444444444444444,
              "#bd3786"
             ],
             [
              0.5555555555555556,
              "#d8576b"
             ],
             [
              0.6666666666666666,
              "#ed7953"
             ],
             [
              0.7777777777777778,
              "#fb9f3a"
             ],
             [
              0.8888888888888888,
              "#fdca26"
             ],
             [
              1,
              "#f0f921"
             ]
            ],
            "type": "heatmap"
           }
          ],
          "heatmapgl": [
           {
            "colorbar": {
             "outlinewidth": 0,
             "ticks": ""
            },
            "colorscale": [
             [
              0,
              "#0d0887"
             ],
             [
              0.1111111111111111,
              "#46039f"
             ],
             [
              0.2222222222222222,
              "#7201a8"
             ],
             [
              0.3333333333333333,
              "#9c179e"
             ],
             [
              0.4444444444444444,
              "#bd3786"
             ],
             [
              0.5555555555555556,
              "#d8576b"
             ],
             [
              0.6666666666666666,
              "#ed7953"
             ],
             [
              0.7777777777777778,
              "#fb9f3a"
             ],
             [
              0.8888888888888888,
              "#fdca26"
             ],
             [
              1,
              "#f0f921"
             ]
            ],
            "type": "heatmapgl"
           }
          ],
          "histogram": [
           {
            "marker": {
             "pattern": {
              "fillmode": "overlay",
              "size": 10,
              "solidity": 0.2
             }
            },
            "type": "histogram"
           }
          ],
          "histogram2d": [
           {
            "colorbar": {
             "outlinewidth": 0,
             "ticks": ""
            },
            "colorscale": [
             [
              0,
              "#0d0887"
             ],
             [
              0.1111111111111111,
              "#46039f"
             ],
             [
              0.2222222222222222,
              "#7201a8"
             ],
             [
              0.3333333333333333,
              "#9c179e"
             ],
             [
              0.4444444444444444,
              "#bd3786"
             ],
             [
              0.5555555555555556,
              "#d8576b"
             ],
             [
              0.6666666666666666,
              "#ed7953"
             ],
             [
              0.7777777777777778,
              "#fb9f3a"
             ],
             [
              0.8888888888888888,
              "#fdca26"
             ],
             [
              1,
              "#f0f921"
             ]
            ],
            "type": "histogram2d"
           }
          ],
          "histogram2dcontour": [
           {
            "colorbar": {
             "outlinewidth": 0,
             "ticks": ""
            },
            "colorscale": [
             [
              0,
              "#0d0887"
             ],
             [
              0.1111111111111111,
              "#46039f"
             ],
             [
              0.2222222222222222,
              "#7201a8"
             ],
             [
              0.3333333333333333,
              "#9c179e"
             ],
             [
              0.4444444444444444,
              "#bd3786"
             ],
             [
              0.5555555555555556,
              "#d8576b"
             ],
             [
              0.6666666666666666,
              "#ed7953"
             ],
             [
              0.7777777777777778,
              "#fb9f3a"
             ],
             [
              0.8888888888888888,
              "#fdca26"
             ],
             [
              1,
              "#f0f921"
             ]
            ],
            "type": "histogram2dcontour"
           }
          ],
          "mesh3d": [
           {
            "colorbar": {
             "outlinewidth": 0,
             "ticks": ""
            },
            "type": "mesh3d"
           }
          ],
          "parcoords": [
           {
            "line": {
             "colorbar": {
              "outlinewidth": 0,
              "ticks": ""
             }
            },
            "type": "parcoords"
           }
          ],
          "pie": [
           {
            "automargin": true,
            "type": "pie"
           }
          ],
          "scatter": [
           {
            "fillpattern": {
             "fillmode": "overlay",
             "size": 10,
             "solidity": 0.2
            },
            "type": "scatter"
           }
          ],
          "scatter3d": [
           {
            "line": {
             "colorbar": {
              "outlinewidth": 0,
              "ticks": ""
             }
            },
            "marker": {
             "colorbar": {
              "outlinewidth": 0,
              "ticks": ""
             }
            },
            "type": "scatter3d"
           }
          ],
          "scattercarpet": [
           {
            "marker": {
             "colorbar": {
              "outlinewidth": 0,
              "ticks": ""
             }
            },
            "type": "scattercarpet"
           }
          ],
          "scattergeo": [
           {
            "marker": {
             "colorbar": {
              "outlinewidth": 0,
              "ticks": ""
             }
            },
            "type": "scattergeo"
           }
          ],
          "scattergl": [
           {
            "marker": {
             "colorbar": {
              "outlinewidth": 0,
              "ticks": ""
             }
            },
            "type": "scattergl"
           }
          ],
          "scattermapbox": [
           {
            "marker": {
             "colorbar": {
              "outlinewidth": 0,
              "ticks": ""
             }
            },
            "type": "scattermapbox"
           }
          ],
          "scatterpolar": [
           {
            "marker": {
             "colorbar": {
              "outlinewidth": 0,
              "ticks": ""
             }
            },
            "type": "scatterpolar"
           }
          ],
          "scatterpolargl": [
           {
            "marker": {
             "colorbar": {
              "outlinewidth": 0,
              "ticks": ""
             }
            },
            "type": "scatterpolargl"
           }
          ],
          "scatterternary": [
           {
            "marker": {
             "colorbar": {
              "outlinewidth": 0,
              "ticks": ""
             }
            },
            "type": "scatterternary"
           }
          ],
          "surface": [
           {
            "colorbar": {
             "outlinewidth": 0,
             "ticks": ""
            },
            "colorscale": [
             [
              0,
              "#0d0887"
             ],
             [
              0.1111111111111111,
              "#46039f"
             ],
             [
              0.2222222222222222,
              "#7201a8"
             ],
             [
              0.3333333333333333,
              "#9c179e"
             ],
             [
              0.4444444444444444,
              "#bd3786"
             ],
             [
              0.5555555555555556,
              "#d8576b"
             ],
             [
              0.6666666666666666,
              "#ed7953"
             ],
             [
              0.7777777777777778,
              "#fb9f3a"
             ],
             [
              0.8888888888888888,
              "#fdca26"
             ],
             [
              1,
              "#f0f921"
             ]
            ],
            "type": "surface"
           }
          ],
          "table": [
           {
            "cells": {
             "fill": {
              "color": "#EBF0F8"
             },
             "line": {
              "color": "white"
             }
            },
            "header": {
             "fill": {
              "color": "#C8D4E3"
             },
             "line": {
              "color": "white"
             }
            },
            "type": "table"
           }
          ]
         },
         "layout": {
          "annotationdefaults": {
           "arrowcolor": "#2a3f5f",
           "arrowhead": 0,
           "arrowwidth": 1
          },
          "autotypenumbers": "strict",
          "coloraxis": {
           "colorbar": {
            "outlinewidth": 0,
            "ticks": ""
           }
          },
          "colorscale": {
           "diverging": [
            [
             0,
             "#8e0152"
            ],
            [
             0.1,
             "#c51b7d"
            ],
            [
             0.2,
             "#de77ae"
            ],
            [
             0.3,
             "#f1b6da"
            ],
            [
             0.4,
             "#fde0ef"
            ],
            [
             0.5,
             "#f7f7f7"
            ],
            [
             0.6,
             "#e6f5d0"
            ],
            [
             0.7,
             "#b8e186"
            ],
            [
             0.8,
             "#7fbc41"
            ],
            [
             0.9,
             "#4d9221"
            ],
            [
             1,
             "#276419"
            ]
           ],
           "sequential": [
            [
             0,
             "#0d0887"
            ],
            [
             0.1111111111111111,
             "#46039f"
            ],
            [
             0.2222222222222222,
             "#7201a8"
            ],
            [
             0.3333333333333333,
             "#9c179e"
            ],
            [
             0.4444444444444444,
             "#bd3786"
            ],
            [
             0.5555555555555556,
             "#d8576b"
            ],
            [
             0.6666666666666666,
             "#ed7953"
            ],
            [
             0.7777777777777778,
             "#fb9f3a"
            ],
            [
             0.8888888888888888,
             "#fdca26"
            ],
            [
             1,
             "#f0f921"
            ]
           ],
           "sequentialminus": [
            [
             0,
             "#0d0887"
            ],
            [
             0.1111111111111111,
             "#46039f"
            ],
            [
             0.2222222222222222,
             "#7201a8"
            ],
            [
             0.3333333333333333,
             "#9c179e"
            ],
            [
             0.4444444444444444,
             "#bd3786"
            ],
            [
             0.5555555555555556,
             "#d8576b"
            ],
            [
             0.6666666666666666,
             "#ed7953"
            ],
            [
             0.7777777777777778,
             "#fb9f3a"
            ],
            [
             0.8888888888888888,
             "#fdca26"
            ],
            [
             1,
             "#f0f921"
            ]
           ]
          },
          "colorway": [
           "#636efa",
           "#EF553B",
           "#00cc96",
           "#ab63fa",
           "#FFA15A",
           "#19d3f3",
           "#FF6692",
           "#B6E880",
           "#FF97FF",
           "#FECB52"
          ],
          "font": {
           "color": "#2a3f5f"
          },
          "geo": {
           "bgcolor": "white",
           "lakecolor": "white",
           "landcolor": "#E5ECF6",
           "showlakes": true,
           "showland": true,
           "subunitcolor": "white"
          },
          "hoverlabel": {
           "align": "left"
          },
          "hovermode": "closest",
          "mapbox": {
           "style": "light"
          },
          "paper_bgcolor": "white",
          "plot_bgcolor": "#E5ECF6",
          "polar": {
           "angularaxis": {
            "gridcolor": "white",
            "linecolor": "white",
            "ticks": ""
           },
           "bgcolor": "#E5ECF6",
           "radialaxis": {
            "gridcolor": "white",
            "linecolor": "white",
            "ticks": ""
           }
          },
          "scene": {
           "xaxis": {
            "backgroundcolor": "#E5ECF6",
            "gridcolor": "white",
            "gridwidth": 2,
            "linecolor": "white",
            "showbackground": true,
            "ticks": "",
            "zerolinecolor": "white"
           },
           "yaxis": {
            "backgroundcolor": "#E5ECF6",
            "gridcolor": "white",
            "gridwidth": 2,
            "linecolor": "white",
            "showbackground": true,
            "ticks": "",
            "zerolinecolor": "white"
           },
           "zaxis": {
            "backgroundcolor": "#E5ECF6",
            "gridcolor": "white",
            "gridwidth": 2,
            "linecolor": "white",
            "showbackground": true,
            "ticks": "",
            "zerolinecolor": "white"
           }
          },
          "shapedefaults": {
           "line": {
            "color": "#2a3f5f"
           }
          },
          "ternary": {
           "aaxis": {
            "gridcolor": "white",
            "linecolor": "white",
            "ticks": ""
           },
           "baxis": {
            "gridcolor": "white",
            "linecolor": "white",
            "ticks": ""
           },
           "bgcolor": "#E5ECF6",
           "caxis": {
            "gridcolor": "white",
            "linecolor": "white",
            "ticks": ""
           }
          },
          "title": {
           "x": 0.05
          },
          "xaxis": {
           "automargin": true,
           "gridcolor": "white",
           "linecolor": "white",
           "ticks": "",
           "title": {
            "standoff": 15
           },
           "zerolinecolor": "white",
           "zerolinewidth": 2
          },
          "yaxis": {
           "automargin": true,
           "gridcolor": "white",
           "linecolor": "white",
           "ticks": "",
           "title": {
            "standoff": 15
           },
           "zerolinecolor": "white",
           "zerolinewidth": 2
          }
         }
        },
        "title": {
         "text": "Relationship Between Likes and Impressions"
        },
        "xaxis": {
         "anchor": "y",
         "autorange": true,
         "domain": [
          0,
          1
         ],
         "range": [
          1017.0630739436162,
          17133.839455314574
         ],
         "title": {
          "text": "Impressions"
         },
         "type": "linear"
        },
        "yaxis": {
         "anchor": "x",
         "autorange": true,
         "domain": [
          0,
          1
         ],
         "range": [
          33.61604669449646,
          477.13513512103486
         ],
         "title": {
          "text": "Likes"
         },
         "type": "linear"
        }
       }
      },
      "image/png": "[encoded data removed]",
      "text/html": [
       "<div>                            <div id=\"88d6af40-12a1-4543-8a28-33688bea737a\" class=\"plotly-graph-div\" style=\"height:525px; width:100%;\"></div>            <script type=\"text/javascript\">                require([\"plotly\"], function(Plotly) {                    window.PLOTLYENV=window.PLOTLYENV || {};                                    if (document.getElementById(\"88d6af40-12a1-4543-8a28-33688bea737a\")) {                    Plotly.newPlot(                        \"88d6af40-12a1-4543-8a28-33688bea737a\",                        [{\"hovertemplate\":\"Impressions=%{x}\\u003cbr\\u003eLikes=%{marker.size}\\u003cextra\\u003e\\u003c\\u002fextra\\u003e\",\"legendgroup\":\"\",\"marker\":{\"color\":\"#636efa\",\"size\":[162.0,224.0,131.0,213.0,123.0,144.0,76.0,124.0,159.0,191.0,81.0,151.0,162.0,142.0,294.0,159.0,205.0,121.0,151.0,72.0,76.0,91.0,195.0,129.0,160.0,175.0,147.0,114.0,151.0,92.0,214.0,150.0,122.0,152.0,196.0,86.0,85.0,156.0,72.0,82.0,416.0,180.0,150.0,127.0,167.0,225.0,137.0,114.0,263.0,328.0,126.0,236.0,99.0,212.0,297.0,142.0,186.0,112.0,149.0,132.0,115.0,248.0,178.0,107.0,269.0,96.0,134.0,301.0,187.0,94.0,114.0,96.0,138.0,122.0,257.0,95.0,244.0,190.0,118.0,178.0,170.0,250.0,159.0,205.0,121.0,151.0,72.0,137.0,114.0,263.0,328.0,126.0,129.0,160.0,175.0,147.0,114.0,151.0,92.0],\"sizemode\":\"area\",\"sizeref\":1.04,\"symbol\":\"circle\"},\"mode\":\"markers\",\"name\":\"\",\"orientation\":\"v\",\"showlegend\":false,\"x\":[3920.0,5394.0,4021.0,4528.0,2518.0,3884.0,2621.0,3541.0,3749.0,4115.0,2218.0,3234.0,4344.0,3216.0,9453.0,5055.0,4002.0,3169.0,6168.0,2407.0,2064.0,3973.0,7281.0,3052.0,4628.0,4082.0,5394.0,2766.0,3924.0,3015.0,6666.0,3854.0,4355.0,4343.0,6108.0,2523.0,2327.0,3990.0,2191.0,1941.0,16062.0,4998.0,4289.0,3880.0,3786.0,4298.0,3630.0,2826.0,7407.0,10386.0,2998.0,7018.0,2941.0,6432.0,10667.0,3988.0,4978.0,3388.0,4467.0,3246.0,5072.0,6339.0,4239.0,3454.0,7571.0,3333.0,3818.0,10933.0,5058.0,3601.0,3480.0,3525.0,3606.0,5542.0,6559.0,3623.0,10493.0,4446.0,2957.0,5538.0,4681.0,5273.0,5055.0,4002.0,3169.0,6168.0,2407.0,3630.0,2826.0,7407.0,10386.0,2998.0,3052.0,4628.0,4082.0,5394.0,2766.0,3924.0,3015.0],\"xaxis\":\"x\",\"y\":[162.0,224.0,131.0,213.0,123.0,144.0,76.0,124.0,159.0,191.0,81.0,151.0,162.0,142.0,294.0,159.0,205.0,121.0,151.0,72.0,76.0,91.0,195.0,129.0,160.0,175.0,147.0,114.0,151.0,92.0,214.0,150.0,122.0,152.0,196.0,86.0,85.0,156.0,72.0,82.0,416.0,180.0,150.0,127.0,167.0,225.0,137.0,114.0,263.0,328.0,126.0,236.0,99.0,212.0,297.0,142.0,186.0,112.0,149.0,132.0,115.0,248.0,178.0,107.0,269.0,96.0,134.0,301.0,187.0,94.0,114.0,96.0,138.0,122.0,257.0,95.0,244.0,190.0,118.0,178.0,170.0,250.0,159.0,205.0,121.0,151.0,72.0,137.0,114.0,263.0,328.0,126.0,129.0,160.0,175.0,147.0,114.0,151.0,92.0],\"yaxis\":\"y\",\"type\":\"scatter\"},{\"hovertemplate\":\"\\u003cb\\u003eOLS trendline\\u003c\\u002fb\\u003e\\u003cbr\\u003eLikes = 0.0253784 * Impressions + 42.4728\\u003cbr\\u003eR\\u003csup\\u003e2\\u003c\\u002fsup\\u003e=0.803312\\u003cbr\\u003e\\u003cbr\\u003eImpressions=%{x}\\u003cbr\\u003eLikes=%{y} \\u003cb\\u003e(trend)\\u003c\\u002fb\\u003e\\u003cextra\\u003e\\u003c\\u002fextra\\u003e\",\"legendgroup\":\"\",\"marker\":{\"color\":\"#636efa\",\"symbol\":\"circle\"},\"mode\":\"lines\",\"name\":\"\",\"showlegend\":false,\"x\":[1941.0,2064.0,2191.0,2218.0,2327.0,2407.0,2407.0,2518.0,2523.0,2621.0,2766.0,2766.0,2826.0,2826.0,2941.0,2957.0,2998.0,2998.0,3015.0,3015.0,3052.0,3052.0,3169.0,3169.0,3216.0,3234.0,3246.0,3333.0,3388.0,3454.0,3480.0,3525.0,3541.0,3601.0,3606.0,3623.0,3630.0,3630.0,3749.0,3786.0,3818.0,3854.0,3880.0,3884.0,3920.0,3924.0,3924.0,3973.0,3988.0,3990.0,4002.0,4002.0,4021.0,4082.0,4082.0,4115.0,4239.0,4289.0,4298.0,4343.0,4344.0,4355.0,4446.0,4467.0,4528.0,4628.0,4628.0,4681.0,4978.0,4998.0,5055.0,5055.0,5058.0,5072.0,5273.0,5394.0,5394.0,5394.0,5538.0,5542.0,6108.0,6168.0,6168.0,6339.0,6432.0,6559.0,6666.0,7018.0,7281.0,7407.0,7407.0,7571.0,9453.0,10386.0,10386.0,10493.0,10667.0,10933.0,16062.0],\"xaxis\":\"x\",\"y\":[91.73221896254907,94.8537606451956,98.07681587849731,98.76203234541973,101.52827660077318,103.55854761387661,103.55854761387661,106.37554864455764,106.5024405828766,108.98952257392833,112.66938878517831,112.66938878517831,114.1920920450059,114.1920920450059,117.11060662634209,117.51666082896278,118.55717472317829,118.55717472317829,118.98860731346278,118.98860731346278,119.92760765702312,119.92760765702312,122.8968790136869,122.8968790136869,124.08966323388518,124.54647421183344,124.85101486379897,127.05893459054896,128.45474591205758,130.1297194978679,130.78955757712652,131.93158502199722,132.3376392246179,133.86034248444548,133.98723442276446,134.41866701304895,134.59631572669548,134.59631572669548,137.61634385868686,138.5553442022472,139.3674526074886,140.28107456338512,140.94091264264375,141.04242619329892,141.95604814919545,142.05756169985062,142.05756169985062,143.3011026953765,143.6817785103334,143.73253528566096,144.0370759376265,144.0370759376265,144.51926530323857,146.06734695072993,146.06734695072993,146.9048337436351,150.05175381394542,151.32067319713508,151.54907868610923,152.6911061309799,152.7164845186437,152.9956467829454,155.30508006035058,155.83802620129023,157.38610784878162,159.92394661516093,159.92394661516093,161.26900116134198,168.80638229748848,169.31395005076433,170.76051814760055,170.76051814760055,170.83665331059194,171.19195073788504,176.29300665830743,179.36379156562637,179.36379156562637,179.36379156562637,183.01827938921258,183.11979293986775,197.4839603575746,199.00666361740218,199.00666361740218,203.3463679079108,205.70655796064355,208.92961319394527,211.64510067397111,220.57829313162625,227.25280908720381,230.45048593284176,230.45048593284176,234.61254150970382,282.3746670929623,306.0527027832811,306.0527027832811,308.768190263307,313.184029716807,319.93468083537596,450.1004311629704],\"yaxis\":\"y\",\"type\":\"scatter\"}],                        {\"template\":{\"data\":{\"histogram2dcontour\":[{\"type\":\"histogram2dcontour\",\"colorbar\":{\"outlinewidth\":0,\"ticks\":\"\"},\"colorscale\":[[0.0,\"#0d0887\"],[0.1111111111111111,\"#46039f\"],[0.2222222222222222,\"#7201a8\"],[0.3333333333333333,\"#9c179e\"],[0.4444444444444444,\"#bd3786\"],[0.5555555555555556,\"#d8576b\"],[0.6666666666666666,\"#ed7953\"],[0.7777777777777778,\"#fb9f3a\"],[0.8888888888888888,\"#fdca26\"],[1.0,\"#f0f921\"]]}],\"choropleth\":[{\"type\":\"choropleth\",\"colorbar\":{\"outlinewidth\":0,\"ticks\":\"\"}}],\"histogram2d\":[{\"type\":\"histogram2d\",\"colorbar\":{\"outlinewidth\":0,\"ticks\":\"\"},\"colorscale\":[[0.0,\"#0d0887\"],[0.1111111111111111,\"#46039f\"],[0.2222222222222222,\"#7201a8\"],[0.3333333333333333,\"#9c179e\"],[0.4444444444444444,\"#bd3786\"],[0.5555555555555556,\"#d8576b\"],[0.6666666666666666,\"#ed7953\"],[0.7777777777777778,\"#fb9f3a\"],[0.8888888888888888,\"#fdca26\"],[1.0,\"#f0f921\"]]}],\"heatmap\":[{\"type\":\"heatmap\",\"colorbar\":{\"outlinewidth\":0,\"ticks\":\"\"},\"colorscale\":[[0.0,\"#0d0887\"],[0.1111111111111111,\"#46039f\"],[0.2222222222222222,\"#7201a8\"],[0.3333333333333333,\"#9c179e\"],[0.4444444444444444,\"#bd3786\"],[0.5555555555555556,\"#d8576b\"],[0.6666666666666666,\"#ed7953\"],[0.7777777777777778,\"#fb9f3a\"],[0.8888888888888888,\"#fdca26\"],[1.0,\"#f0f921\"]]}],\"heatmapgl\":[{\"type\":\"heatmapgl\",\"colorbar\":{\"outlinewidth\":0,\"ticks\":\"\"},\"colorscale\":[[0.0,\"#0d0887\"],[0.1111111111111111,\"#46039f\"],[0.2222222222222222,\"#7201a8\"],[0.3333333333333333,\"#9c179e\"],[0.4444444444444444,\"#bd3786\"],[0.5555555555555556,\"#d8576b\"],[0.6666666666666666,\"#ed7953\"],[0.7777777777777778,\"#fb9f3a\"],[0.8888888888888888,\"#fdca26\"],[1.0,\"#f0f921\"]]}],\"contourcarpet\":[{\"type\":\"contourcarpet\",\"colorbar\":{\"outlinewidth\":0,\"ticks\":\"\"}}],\"contour\":[{\"type\":\"contour\",\"colorbar\":{\"outlinewidth\":0,\"ticks\":\"\"},\"colorscale\":[[0.0,\"#0d0887\"],[0.1111111111111111,\"#46039f\"],[0.2222222222222222,\"#7201a8\"],[0.3333333333333333,\"#9c179e\"],[0.4444444444444444,\"#bd3786\"],[0.5555555555555556,\"#d8576b\"],[0.6666666666666666,\"#ed7953\"],[0.7777777777777778,\"#fb9f3a\"],[0.8888888888888888,\"#fdca26\"],[1.0,\"#f0f921\"]]}],\"surface\":[{\"type\":\"surface\",\"colorbar\":{\"outlinewidth\":0,\"ticks\":\"\"},\"colorscale\":[[0.0,\"#0d0887\"],[0.1111111111111111,\"#46039f\"],[0.2222222222222222,\"#7201a8\"],[0.3333333333333333,\"#9c179e\"],[0.4444444444444444,\"#bd3786\"],[0.5555555555555556,\"#d8576b\"],[0.6666666666666666,\"#ed7953\"],[0.7777777777777778,\"#fb9f3a\"],[0.8888888888888888,\"#fdca26\"],[1.0,\"#f0f921\"]]}],\"mesh3d\":[{\"type\":\"mesh3d\",\"colorbar\":{\"outlinewidth\":0,\"ticks\":\"\"}}],\"scatter\":[{\"fillpattern\":{\"fillmode\":\"overlay\",\"size\":10,\"solidity\":0.2},\"type\":\"scatter\"}],\"parcoords\":[{\"type\":\"parcoords\",\"line\":{\"colorbar\":{\"outlinewidth\":0,\"ticks\":\"\"}}}],\"scatterpolargl\":[{\"type\":\"scatterpolargl\",\"marker\":{\"colorbar\":{\"outlinewidth\":0,\"ticks\":\"\"}}}],\"bar\":[{\"error_x\":{\"color\":\"#2a3f5f\"},\"error_y\":{\"color\":\"#2a3f5f\"},\"marker\":{\"line\":{\"color\":\"#E5ECF6\",\"width\":0.5},\"pattern\":{\"fillmode\":\"overlay\",\"size\":10,\"solidity\":0.2}},\"type\":\"bar\"}],\"scattergeo\":[{\"type\":\"scattergeo\",\"marker\":{\"colorbar\":{\"outlinewidth\":0,\"ticks\":\"\"}}}],\"scatterpolar\":[{\"type\":\"scatterpolar\",\"marker\":{\"colorbar\":{\"outlinewidth\":0,\"ticks\":\"\"}}}],\"histogram\":[{\"marker\":{\"pattern\":{\"fillmode\":\"overlay\",\"size\":10,\"solidity\":0.2}},\"type\":\"histogram\"}],\"scattergl\":[{\"type\":\"scattergl\",\"marker\":{\"colorbar\":{\"outlinewidth\":0,\"ticks\":\"\"}}}],\"scatter3d\":[{\"type\":\"scatter3d\",\"line\":{\"colorbar\":{\"outlinewidth\":0,\"ticks\":\"\"}},\"marker\":{\"colorbar\":{\"outlinewidth\":0,\"ticks\":\"\"}}}],\"scattermapbox\":[{\"type\":\"scattermapbox\",\"marker\":{\"colorbar\":{\"outlinewidth\":0,\"ticks\":\"\"}}}],\"scatterternary\":[{\"type\":\"scatterternary\",\"marker\":{\"colorbar\":{\"outlinewidth\":0,\"ticks\":\"\"}}}],\"scattercarpet\":[{\"type\":\"scattercarpet\",\"marker\":{\"colorbar\":{\"outlinewidth\":0,\"ticks\":\"\"}}}],\"carpet\":[{\"aaxis\":{\"endlinecolor\":\"#2a3f5f\",\"gridcolor\":\"white\",\"linecolor\":\"white\",\"minorgridcolor\":\"white\",\"startlinecolor\":\"#2a3f5f\"},\"baxis\":{\"endlinecolor\":\"#2a3f5f\",\"gridcolor\":\"white\",\"linecolor\":\"white\",\"minorgridcolor\":\"white\",\"startlinecolor\":\"#2a3f5f\"},\"type\":\"carpet\"}],\"table\":[{\"cells\":{\"fill\":{\"color\":\"#EBF0F8\"},\"line\":{\"color\":\"white\"}},\"header\":{\"fill\":{\"color\":\"#C8D4E3\"},\"line\":{\"color\":\"white\"}},\"type\":\"table\"}],\"barpolar\":[{\"marker\":{\"line\":{\"color\":\"#E5ECF6\",\"width\":0.5},\"pattern\":{\"fillmode\":\"overlay\",\"size\":10,\"solidity\":0.2}},\"type\":\"barpolar\"}],\"pie\":[{\"automargin\":true,\"type\":\"pie\"}]},\"layout\":{\"autotypenumbers\":\"strict\",\"colorway\":[\"#636efa\",\"#EF553B\",\"#00cc96\",\"#ab63fa\",\"#FFA15A\",\"#19d3f3\",\"#FF6692\",\"#B6E880\",\"#FF97FF\",\"#FECB52\"],\"font\":{\"color\":\"#2a3f5f\"},\"hovermode\":\"closest\",\"hoverlabel\":{\"align\":\"left\"},\"paper_bgcolor\":\"white\",\"plot_bgcolor\":\"#E5ECF6\",\"polar\":{\"bgcolor\":\"#E5ECF6\",\"angularaxis\":{\"gridcolor\":\"white\",\"linecolor\":\"white\",\"ticks\":\"\"},\"radialaxis\":{\"gridcolor\":\"white\",\"linecolor\":\"white\",\"ticks\":\"\"}},\"ternary\":{\"bgcolor\":\"#E5ECF6\",\"aaxis\":{\"gridcolor\":\"white\",\"linecolor\":\"white\",\"ticks\":\"\"},\"baxis\":{\"gridcolor\":\"white\",\"linecolor\":\"white\",\"ticks\":\"\"},\"caxis\":{\"gridcolor\":\"white\",\"linecolor\":\"white\",\"ticks\":\"\"}},\"coloraxis\":{\"colorbar\":{\"outlinewidth\":0,\"ticks\":\"\"}},\"colorscale\":{\"sequential\":[[0.0,\"#0d0887\"],[0.1111111111111111,\"#46039f\"],[0.2222222222222222,\"#7201a8\"],[0.3333333333333333,\"#9c179e\"],[0.4444444444444444,\"#bd3786\"],[0.5555555555555556,\"#d8576b\"],[0.6666666666666666,\"#ed7953\"],[0.7777777777777778,\"#fb9f3a\"],[0.8888888888888888,\"#fdca26\"],[1.0,\"#f0f921\"]],\"sequentialminus\":[[0.0,\"#0d0887\"],[0.1111111111111111,\"#46039f\"],[0.2222222222222222,\"#7201a8\"],[0.3333333333333333,\"#9c179e\"],[0.4444444444444444,\"#bd3786\"],[0.5555555555555556,\"#d8576b\"],[0.6666666666666666,\"#ed7953\"],[0.7777777777777778,\"#fb9f3a\"],[0.8888888888888888,\"#fdca26\"],[1.0,\"#f0f921\"]],\"diverging\":[[0,\"#8e0152\"],[0.1,\"#c51b7d\"],[0.2,\"#de77ae\"],[0.3,\"#f1b6da\"],[0.4,\"#fde0ef\"],[0.5,\"#f7f7f7\"],[0.6,\"#e6f5d0\"],[0.7,\"#b8e186\"],[0.8,\"#7fbc41\"],[0.9,\"#4d9221\"],[1,\"#276419\"]]},\"xaxis\":{\"gridcolor\":\"white\",\"linecolor\":\"white\",\"ticks\":\"\",\"title\":{\"standoff\":15},\"zerolinecolor\":\"white\",\"automargin\":true,\"zerolinewidth\":2},\"yaxis\":{\"gridcolor\":\"white\",\"linecolor\":\"white\",\"ticks\":\"\",\"title\":{\"standoff\":15},\"zerolinecolor\":\"white\",\"automargin\":true,\"zerolinewidth\":2},\"scene\":{\"xaxis\":{\"backgroundcolor\":\"#E5ECF6\",\"gridcolor\":\"white\",\"linecolor\":\"white\",\"showbackground\":true,\"ticks\":\"\",\"zerolinecolor\":\"white\",\"gridwidth\":2},\"yaxis\":{\"backgroundcolor\":\"#E5ECF6\",\"gridcolor\":\"white\",\"linecolor\":\"white\",\"showbackground\":true,\"ticks\":\"\",\"zerolinecolor\":\"white\",\"gridwidth\":2},\"zaxis\":{\"backgroundcolor\":\"#E5ECF6\",\"gridcolor\":\"white\",\"linecolor\":\"white\",\"showbackground\":true,\"ticks\":\"\",\"zerolinecolor\":\"white\",\"gridwidth\":2}},\"shapedefaults\":{\"line\":{\"color\":\"#2a3f5f\"}},\"annotationdefaults\":{\"arrowcolor\":\"#2a3f5f\",\"arrowhead\":0,\"arrowwidth\":1},\"geo\":{\"bgcolor\":\"white\",\"landcolor\":\"#E5ECF6\",\"subunitcolor\":\"white\",\"showland\":true,\"showlakes\":true,\"lakecolor\":\"white\"},\"title\":{\"x\":0.05},\"mapbox\":{\"style\":\"light\"}}},\"xaxis\":{\"anchor\":\"y\",\"domain\":[0.0,1.0],\"title\":{\"text\":\"Impressions\"}},\"yaxis\":{\"anchor\":\"x\",\"domain\":[0.0,1.0],\"title\":{\"text\":\"Likes\"}},\"legend\":{\"tracegroupgap\":0,\"itemsizing\":\"constant\"},\"title\":{\"text\":\"Relationship Between Likes and Impressions\"}},                        {\"responsive\": true}                    ).then(function(){\n",
       "                            \n",
       "var gd = document.getElementById('88d6af40-12a1-4543-8a28-33688bea737a');\n",
       "var x = new MutationObserver(function (mutations, observer) {{\n",
       "        var display = window.getComputedStyle(gd).display;\n",
       "        if (!display || display === 'none') {{\n",
       "            console.log([gd, 'removed!']);\n",
       "            Plotly.purge(gd);\n",
       "            observer.disconnect();\n",
       "        }}\n",
       "}});\n",
       "\n",
       "// Listen for the removal of the full notebook cells\n",
       "var notebookContainer = gd.closest('#notebook-container');\n",
       "if (notebookContainer) {{\n",
       "    x.observe(notebookContainer, {childList: true});\n",
       "}}\n",
       "\n",
       "// Listen for the clearing of the current output cell\n",
       "var outputEl = gd.closest('.output');\n",
       "if (outputEl) {{\n",
       "    x.observe(outputEl, {childList: true});\n",
       "}}\n",
       "\n",
       "                        })                };                });            </script>        </div>"
      ]
     },
     "metadata": {},
     "output_type": "display_data"
    }
   ],
   "source": [
    "# Scatter Plot with Plotly\n",
    "figure = px.scatter(\n",
    "    data_frame=data,\n",
    "    x=\"Impressions\",\n",
    "    y=\"Likes\",\n",
    "    size=\"Likes\",\n",
    "    trendline=\"ols\",\n",
    "    title=\"Relationship Between Likes and Impressions\"\n",
    ")\n",
    "figure.show()"
   ]
  },
  {
   "cell_type": "markdown",
   "id": "ceb569e7-15f3-4540-b669-65c5e5a6c5f8",
   "metadata": {},
   "source": [
    "### Here’s how to plot linear relationships by using the matplotlib library in Python:"
   ]
  },
  {
   "cell_type": "markdown",
   "id": "261e1537-8595-44d2-a094-2f3d27de9a3b",
   "metadata": {},
   "source": [
    "To visualize linear relationships using matplotlib, you have to use seaborn.regplot method."
   ]
  },
  {
   "cell_type": "code",
   "execution_count": 16,
   "id": "c7fe99bc-c5e2-4256-b461-07737665d15e",
   "metadata": {},
   "outputs": [
    {
     "data": {
      "image/png": "[encoded data removed]",
      "text/plain": [
       "<Figure size 1000x800 with 1 Axes>"
      ]
     },
     "metadata": {},
     "output_type": "display_data"
    }
   ],
   "source": [
    "# Regression Plot with Seaborn\n",
    "plt.figure(figsize=(10, 8))\n",
    "plt.style.use('fivethirtyeight')  # Apply styling\n",
    "plt.title(\"Relationship Between Likes & Impressions\")\n",
    "sns.regplot(x=\"Impressions\", y=\"Likes\", data=data)  # Regression plot\n",
    "plt.show()"
   ]
  },
  {
   "cell_type": "markdown",
   "id": "34b5e1e3-0ccc-4851-ae04-fc9731203fe8",
   "metadata": {},
   "source": [
    "# Analysis Summary and Next Steps\n",
    "\n",
    "## Summary of Findings\n",
    "- **Scatter Plot (Plotly)**:\n",
    "  - The interactive scatter plot revealed a positive relationship between \"Likes\" and \"Impressions\". As the number of impressions increases, the number of likes also tends to rise.\n",
    "  - The trendline from the `ols` regression indicates a consistent pattern, suggesting a linear correlation between the two metrics.\n",
    "\n",
    "- **Regression Plot (Seaborn)**:\n",
    "  - The static regression plot confirmed the findings from the scatter plot, with a clear positive slope between \"Likes\" and \"Impressions\".\n",
    "  - The visualization provided additional clarity by emphasizing the linear trend.\n",
    "\n",
    "- **Key Insight**:\n",
    "  - The data suggests that increasing impressions is likely to result in higher likes. This insight can inform strategies for optimizing content reach on Instagram.\n",
    "\n",
    "## Next Steps\n",
    "1. **Detailed Analysis**:\n",
    "   - Perform further statistical tests (e.g., correlation coefficient, p-value) to quantify the strength and significance of the relationship.\n",
    "   - Analyze other variables in the dataset to identify additional factors influencing likes (e.g., reach, saves, comments).\n",
    "\n",
    "2. **Segmentation**:\n",
    "   - Segment the data by content type, audience demographics, or posting time to determine whether certain groups perform better.\n",
    "\n",
    "3. **Predictive Modeling**:\n",
    "   - Develop a predictive model using machine learning to forecast likes based on impressions and other variables.\n",
    "\n",
    "4. **Data Visualization Enhancements**:\n",
    "   - Explore advanced visualizations (e.g., heatmaps or pair plots) to uncover hidden relationships among all metrics.\n",
    "\n",
    "5. **Actionable Insights**:\n",
    "   - Use findings to propose content strategies that maximize impressions and engagement on Instagram, such as optimized posting schedules or targeting strategies.\n",
    "\n",
    "By diving deeper into the dataset and extending the analysis, we can uncover actionable insights that can guide data-driven decision-making for social media strategies.\n"
   ]
  }
 ],
 "metadata": {
  "kernelspec": {
   "display_name": "Python 3 (ipykernel)",
   "language": "python",
   "name": "python3"
  },
  "language_info": {
   "codemirror_mode": {
    "name": "ipython",
    "version": 3
   },
   "file_extension": ".py",
   "mimetype": "text/x-python",
   "name": "python",
   "nbconvert_exporter": "python",
   "pygments_lexer": "ipython3",
   "version": "3.11.7"
  }
 },
 "nbformat": 4,
 "nbformat_minor": 5
}
