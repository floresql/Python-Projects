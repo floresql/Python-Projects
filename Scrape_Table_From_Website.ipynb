{
 "cells": [
  {
   "cell_type": "markdown",
   "id": "f256ee14-9266-4fab-a1c6-5433959ac251",
   "metadata": {},
   "source": [
    "# Scraping Table Data from a Webpage with `urllib` and `pandas`\n",
    "\n",
    "This example demonstrates how to use Python's `urllib` and `pandas` modules to extract and display table data from a webpage. Specifically, we'll fetch a Wikipedia page and parse its content to retrieve the first table.\n",
    "\n",
    "### Steps:\n",
    "\n",
    "1. **Import Required Modules**\n",
    "   - Use `urllib.request` to fetch the webpage's HTML.\n",
    "   - Use `pandas` to parse the HTML and extract tabular data.\n",
    "\n",
    "2. **Define the URL**\n",
    "   - Specify the webpage URL to be scraped. In this example:\n",
    "     ```python\n",
    "     url = \"https://en.wikipedia.org/wiki/Programming_languages_used_in_most_popular_websites\"\n",
    "     ```\n",
    "\n",
    "3. **Fetch the HTML Content**\n",
    "   - Use `urllib.request.urlopen` to send a request to the URL and retrieve the HTML content:\n",
    "     ```python\n",
    "     with urllib.request.urlopen(url) as i:\n",
    "         html = i.read()\n",
    "     ```\n",
    "\n",
    "4. **Extract Table Data**\n",
    "   - Use `pandas.read_html` to parse the HTML and extract the first table:\n",
    "     ```python\n",
    "     data = pd.read_html(html)[0]\n",
    "     ```\n",
    "   - The `read_html` function returns a list of DataFrames, each corresponding to a table in the HTML. Access the first table using `[0]`.\n",
    "\n",
    "5. **Display the Data**\n",
    "   - Use the `head()` method to preview the first few rows of the extracted table:\n",
    "     ```python\n",
    "     print(data.head())\n",
    "     ```"
   ]
  },
  {
   "cell_type": "markdown",
   "id": "d7964430-5054-4662-88f4-837fd741eacb",
   "metadata": {},
   "source": [
    "### Complete Code Example"
   ]
  },
  {
   "cell_type": "code",
   "execution_count": 4,
   "id": "4d280e4d-fd30-4dd3-886a-45012f2c4137",
   "metadata": {},
   "outputs": [
    {
     "name": "stdout",
     "output_type": "stream",
     "text": [
      "    Websites Popularity (unique visitors per month)[1]  \\\n",
      "0  Google[2]                                2800000000   \n",
      "1   Facebook                                1120000000   \n",
      "2    YouTube                                1100000000   \n",
      "3      Yahoo                                 750000000   \n",
      "4       Etsy       516,000,000 (Total, not unique)[13]   \n",
      "\n",
      "        Front-end (Client-side)  \\\n",
      "0        JavaScript, TypeScript   \n",
      "1  JavaScript, TypeScript, Flow   \n",
      "2        JavaScript, TypeScript   \n",
      "3                    JavaScript   \n",
      "4                    JavaScript   \n",
      "\n",
      "                              Back-end (Server-side)  \\\n",
      "0                  C, C++, Go,[3] Java, Python, Node   \n",
      "1  Hack/HHVM, Python, C++, Java, Erlang, D,[6] Ha...   \n",
      "2                   Python, C, C++, Java,[10] Go[11]   \n",
      "3                                                PHP   \n",
      "4                                            PHP[14]   \n",
      "\n",
      "                                     Database  \\\n",
      "0                     Bigtable,[4] MariaDB[5]   \n",
      "1      MariaDB, MySQL,[8] HBase, Cassandra[9]   \n",
      "2                Vitess, BigTable, MariaDB[5]   \n",
      "3  PostgreSQL, HBase, Cassandra, MongoDB,[12]   \n",
      "4                            MySQL, Redis[15]   \n",
      "\n",
      "                                       Notes  \n",
      "0  The most used search engine in the world.  \n",
      "1   The most visited social networking site.  \n",
      "2       The most popular video sharing site.  \n",
      "3                                        NaN  \n",
      "4                        E-commerce website.  \n"
     ]
    }
   ],
   "source": [
    "import urllib.request\n",
    "import pandas as pd\n",
    "\n",
    "# Define the target URL\n",
    "url = \"https://en.wikipedia.org/wiki/Programming_languages_used_in_most_popular_websites\"\n",
    "\n",
    "# Fetch and read the HTML content\n",
    "with urllib.request.urlopen(url) as i:\n",
    "    html = i.read()\n",
    "\n",
    "# Parse the HTML and extract the first table\n",
    "data = pd.read_html(html)[0]\n",
    "\n",
    "# Display the first few rows of the table\n",
    "print(data.head())"
   ]
  }
 ],
 "metadata": {
  "kernelspec": {
   "display_name": "Python 3 (ipykernel)",
   "language": "python",
   "name": "python3"
  },
  "language_info": {
   "codemirror_mode": {
    "name": "ipython",
    "version": 3
   },
   "file_extension": ".py",
   "mimetype": "text/x-python",
   "name": "python",
   "nbconvert_exporter": "python",
   "pygments_lexer": "ipython3",
   "version": "3.11.7"
  }
 },
 "nbformat": 4,
 "nbformat_minor": 5
}
