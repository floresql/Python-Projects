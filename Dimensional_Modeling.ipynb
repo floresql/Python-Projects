{
 "cells": [
  {
   "cell_type": "markdown",
   "id": "438f6337-f240-4294-9c87-61b63bc37fd1",
   "metadata": {},
   "source": [
    "# Creating Dimensions and Fact Tables with Pandas\n",
    "\n",
    "This example demonstrates an ETL (Extract, Transform, Load) process using `pandas` to create dimension tables and a fact table `(star schema)` from raw transactional data. The final outputs are saved as CSV files.\n",
    "\n",
    "### 1. **Import Libraries**\n",
    "First, import the necessary libraries:"
   ]
  },
  {
   "cell_type": "code",
   "execution_count": 8,
   "id": "a344d954-ee2b-4d43-b01d-68ccbb5695bf",
   "metadata": {},
   "outputs": [],
   "source": [
    "# Import Libraries\n",
    "import pandas as pd\n",
    "from datetime import datetime"
   ]
  },
  {
   "cell_type": "markdown",
   "id": "35ee8d97-3fb6-4a45-9626-e23d4623a537",
   "metadata": {},
   "source": [
    "### 2. **Load Raw Data**\n",
    "The raw transactional data is loaded into a pandas DataFrame:"
   ]
  },
  {
   "cell_type": "code",
   "execution_count": 12,
   "id": "7c7979bf-b162-47e3-b0bf-e3551a1e00c1",
   "metadata": {},
   "outputs": [
    {
     "name": "stdout",
     "output_type": "stream",
     "text": [
      "Raw Data:\n",
      "   TransactionID  CustomerID  ProductID  Quantity  Price TransactionDate\n",
      "0              1         101        501         2   10.0      2024-11-01\n",
      "1              2         102        502         1   20.0      2024-11-02\n",
      "2              3         103        503         3   15.0      2024-11-02\n",
      "3              4         101        501         1   10.0      2024-11-03\n"
     ]
    }
   ],
   "source": [
    "data = {\n",
    "    \"TransactionID\": [1, 2, 3, 4],\n",
    "    \"CustomerID\": [101, 102, 103, 101],\n",
    "    \"ProductID\": [501, 502, 503, 501],\n",
    "    \"Quantity\": [2, 1, 3, 1],\n",
    "    \"Price\": [10.0, 20.0, 15.0, 10.0],\n",
    "    \"TransactionDate\": [\"2024-11-01\", \"2024-11-02\", \"2024-11-02\", \"2024-11-03\"]\n",
    "}\n",
    "df_raw = pd.DataFrame(data)\n",
    "\n",
    "# Convert TransactionDate to datetime\n",
    "df_raw[\"TransactionDate\"] = pd.to_datetime(df_raw[\"TransactionDate\"])\n",
    "print(\"Raw Data:\")\n",
    "print(df_raw)\n"
   ]
  },
  {
   "cell_type": "markdown",
   "id": "0c4d791d-a8f4-4596-9d2d-b7a6cdbffe33",
   "metadata": {},
   "source": [
    "### 3. **Create Dimension Tables**\n",
    "a. Customer Dimension\n",
    "Extract unique customers and assign each a `CustomerKey`:"
   ]
  },
  {
   "cell_type": "code",
   "execution_count": 16,
   "id": "4871ac84-3d75-4aac-8671-caf81689a6c7",
   "metadata": {},
   "outputs": [
    {
     "name": "stdout",
     "output_type": "stream",
     "text": [
      "\n",
      "Customer Dimension:\n",
      "   CustomerID  CustomerKey\n",
      "0         101            1\n",
      "1         102            2\n",
      "2         103            3\n"
     ]
    }
   ],
   "source": [
    "customer_dim = df_raw[[\"CustomerID\"]].drop_duplicates().reset_index(drop=True)\n",
    "customer_dim[\"CustomerKey\"] = customer_dim.index + 1\n",
    "print(\"\\nCustomer Dimension:\")\n",
    "print(customer_dim)\n"
   ]
  },
  {
   "cell_type": "markdown",
   "id": "dc9c7fa4-75c0-493f-be43-d79f6a1a206b",
   "metadata": {},
   "source": [
    "\n",
    "b. Product Dimension\n",
    "Extract unique products and assign each a `ProductKey`:"
   ]
  },
  {
   "cell_type": "code",
   "execution_count": 19,
   "id": "3167da48-823a-42d9-b0c8-039ea812306e",
   "metadata": {},
   "outputs": [
    {
     "name": "stdout",
     "output_type": "stream",
     "text": [
      "\n",
      "Product Dimension:\n",
      "   ProductID  ProductKey\n",
      "0        501           1\n",
      "1        502           2\n",
      "2        503           3\n"
     ]
    }
   ],
   "source": [
    "product_dim = df_raw[[\"ProductID\"]].drop_duplicates().reset_index(drop=True)\n",
    "product_dim[\"ProductKey\"] = product_dim.index + 1\n",
    "print(\"\\nProduct Dimension:\")\n",
    "print(product_dim)\n"
   ]
  },
  {
   "cell_type": "markdown",
   "id": "c14c960e-199f-43ca-baf0-73e8ee092563",
   "metadata": {},
   "source": [
    "c. Time Dimension\n",
    "Extract unique transaction dates and create date-based attributes:"
   ]
  },
  {
   "cell_type": "code",
   "execution_count": 23,
   "id": "be9fe7aa-c90e-450e-bd63-86d974db4f63",
   "metadata": {},
   "outputs": [
    {
     "name": "stdout",
     "output_type": "stream",
     "text": [
      "\n",
      "Time Dimension:\n",
      "  TransactionDate  TimeKey  Year  Month  Day\n",
      "0      2024-11-01        1  2024     11    1\n",
      "1      2024-11-02        2  2024     11    2\n",
      "2      2024-11-03        3  2024     11    3\n"
     ]
    }
   ],
   "source": [
    "time_dim = (\n",
    "    df_raw[[\"TransactionDate\"]]\n",
    "    .drop_duplicates()\n",
    "    .reset_index(drop=True)\n",
    ")\n",
    "time_dim[\"TimeKey\"] = time_dim.index + 1\n",
    "time_dim[\"Year\"] = time_dim[\"TransactionDate\"].dt.year\n",
    "time_dim[\"Month\"] = time_dim[\"TransactionDate\"].dt.month\n",
    "time_dim[\"Day\"] = time_dim[\"TransactionDate\"].dt.day\n",
    "print(\"\\nTime Dimension:\")\n",
    "print(time_dim)\n"
   ]
  },
  {
   "cell_type": "markdown",
   "id": "2937438a-6f9d-4761-aa18-2889cc130aa5",
   "metadata": {},
   "source": [
    "### 4. **Create Fact Table**\n",
    "Merge the dimension tables with the raw data and calculate total transaction values:"
   ]
  },
  {
   "cell_type": "code",
   "execution_count": 28,
   "id": "8dab766e-6dbf-4022-84df-35ab794e06fc",
   "metadata": {},
   "outputs": [
    {
     "name": "stdout",
     "output_type": "stream",
     "text": [
      "\n",
      "Fact Table:\n",
      "   TransactionID  CustomerKey  ProductKey  TimeKey  Quantity  Price  Total\n",
      "0              1            1           1        1         2   10.0   20.0\n",
      "1              4            1           1        3         1   10.0   10.0\n",
      "2              2            2           2        2         1   20.0   20.0\n",
      "3              3            3           3        2         3   15.0   45.0\n"
     ]
    }
   ],
   "source": [
    "fact_table = df_raw.merge(customer_dim, on=\"CustomerID\")\n",
    "fact_table = fact_table.merge(product_dim, on=\"ProductID\")\n",
    "fact_table = fact_table.merge(time_dim, on=\"TransactionDate\")\n",
    "\n",
    "# Select and rename columns for the fact table\n",
    "fact_table = fact_table[[\"TransactionID\", \"CustomerKey\", \"ProductKey\", \"TimeKey\", \"Quantity\", \"Price\"]]\n",
    "fact_table[\"Total\"] = fact_table[\"Quantity\"] * fact_table[\"Price\"]\n",
    "print(\"\\nFact Table:\")\n",
    "print(fact_table)\n"
   ]
  },
  {
   "cell_type": "markdown",
   "id": "2cddcd74-c144-4f8f-a4a2-9a8ccdb10817",
   "metadata": {},
   "source": [
    "### 5. **Save Tables to CSV**\n",
    "Save the resulting tables to CSV files for future use:"
   ]
  },
  {
   "cell_type": "code",
   "execution_count": 31,
   "id": "df954e3f-b97a-4cb8-b48c-c4280ee6f4c9",
   "metadata": {},
   "outputs": [
    {
     "name": "stdout",
     "output_type": "stream",
     "text": [
      "\n",
      "Data saved to CSV files!\n"
     ]
    }
   ],
   "source": [
    "customer_dim.to_csv(\"customer_dim.csv\", index=False)\n",
    "product_dim.to_csv(\"product_dim.csv\", index=False)\n",
    "time_dim.to_csv(\"time_dim.csv\", index=False)\n",
    "fact_table.to_csv(\"fact_table.csv\", index=False)\n",
    "\n",
    "print(\"\\nData saved to CSV files!\")\n"
   ]
  },
  {
   "cell_type": "markdown",
   "id": "2b707200-38c3-4f37-b298-3733f5b322bf",
   "metadata": {},
   "source": [
    "# Summary and Next Steps\n",
    "\n",
    "### Summary\n",
    "In this ETL process, we performed the following steps:\n",
    "1. **Loaded Raw Data**: Imported transactional data into a pandas DataFrame and converted dates to `datetime` format.\n",
    "2. **Created Dimension Tables**:\n",
    "   - **Customer Dimension**: Extracted unique customers and assigned a primary key (`CustomerKey`).\n",
    "   - **Product Dimension**: Extracted unique products and assigned a primary key (`ProductKey`).\n",
    "   - **Time Dimension**: Extracted unique dates and added attributes such as Year, Month, and Day, along with a primary key (`TimeKey`).\n",
    "3. **Created the Fact Table**: Merged the dimension tables with the raw data to form a central fact table. Calculated total transaction values (`Quantity * Price`).\n",
    "4. **Saved Outputs**: Saved all the dimension tables and the fact table as CSV files for further analysis or integration into a data warehouse.\n",
    "\n",
    "### Next Steps\n",
    "1. **Enhance Data Quality**:\n",
    "   - Validate data consistency (e.g., ensure no duplicate or missing values in keys or dimensions).\n",
    "   - Add data cleansing steps if necessary (e.g., handling outliers or formatting issues).\n",
    "\n",
    "2. **Data Warehouse Integration**:\n",
    "   - Load the CSV files into a relational database or data warehouse (e.g., MySQL, PostgreSQL, Snowflake).\n",
    "   - Establish relationships between dimension tables and the fact table.\n",
    "\n",
    "3. **Data Analysis**:\n",
    "   - Perform exploratory data analysis (EDA) on the fact table for insights.\n",
    "   - Use tools like Power BI, Tableau, or Python for visualization and reporting.\n",
    "\n",
    "4. **Automation**:\n",
    "   - Develop a script or pipeline to automate this ETL process for new data batches.\n",
    "   - Consider using tools like Apache Airflow or cloud services (e.g., AWS Glue, Azure Data Factory).\n",
    "\n",
    "5. **Advanced Use Cases**:\n",
    "   - Extend the dimensions (e.g., include product categories or customer demographics).\n",
    "   - Incorporate additional metrics or KPIs in the fact table (e.g., profit, discount rates).\n",
    "\n",
    "By following these steps, you can transition this project from a static ETL script to a robust, production-ready data processing pipeline!\n"
   ]
  }
 ],
 "metadata": {
  "kernelspec": {
   "display_name": "Python 3 (ipykernel)",
   "language": "python",
   "name": "python3"
  },
  "language_info": {
   "codemirror_mode": {
    "name": "ipython",
    "version": 3
   },
   "file_extension": ".py",
   "mimetype": "text/x-python",
   "name": "python",
   "nbconvert_exporter": "python",
   "pygments_lexer": "ipython3",
   "version": "3.11.7"
  }
 },
 "nbformat": 4,
 "nbformat_minor": 5
}
