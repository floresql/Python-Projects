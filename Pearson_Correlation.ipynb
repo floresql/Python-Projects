{
 "cells": [
  {
   "cell_type": "markdown",
   "id": "49024be3-f68e-4cf1-8538-cb2a5453bbd5",
   "metadata": {},
   "source": [
    "# Analyzing Movie Data with Pandas and Seaborn\n",
    "\n",
    "This guide demonstrates how to preprocess a dataset, calculate the Pearson correlation, and visualize the correlation matrix using Python libraries like `pandas`, `seaborn`, and `matplotlib`.\n",
    "\n",
    "### Steps:\n",
    "\n",
    "1. **Load the Dataset**\n",
    "   - Use `pandas` to load the dataset from a CSV file. In this example, the dataset is named `MoviesOnStreamingPlatforms_updated.csv`:\n",
    "     ```python\n",
    "     import pandas as pd\n",
    "     file_path = 'MoviesOnStreamingPlatforms_updated.csv'\n",
    "     data = pd.read_csv(file_path)\n",
    "     ```\n",
    "\n",
    "2. **Preprocess the Data**\n",
    "   - Convert the `Rotten Tomatoes` column from a percentage string to a float (decimal format):\n",
    "     ```python\n",
    "     data['Rotten Tomatoes'] = data['Rotten Tomatoes'].str.rstrip('%').astype('float') / 100\n",
    "     ```\n",
    "   - Select numeric columns for analysis (e.g., `IMDb`, `Rotten Tomatoes`, `Runtime`, and `Year`):\n",
    "     ```python\n",
    "     numeric_columns = ['IMDb', 'Rotten Tomatoes', 'Runtime', 'Year']\n",
    "     ```\n",
    "   - Remove rows with missing values in the selected numeric columns:\n",
    "     ```python\n",
    "     data_cleaned = data[numeric_columns].dropna()\n",
    "     ```\n",
    "\n",
    "3. **Calculate Pearson Correlation**\n",
    "   - Compute the Pearson correlation matrix for the cleaned data:\n",
    "     ```python\n",
    "     correlation_matrix = data_cleaned.corr(method='pearson')\n",
    "     ```\n",
    "   - Display the correlation matrix:\n",
    "     ```python\n",
    "     print(\"Pearson Correlation Matrix:\")\n",
    "     print(correlation_matrix)\n",
    "     ```\n",
    "\n",
    "4. **Visualize the Correlation**\n",
    "   - Use `seaborn` to create a heatmap of the correlation matrix:\n",
    "     ```python\n",
    "     import seaborn as sns\n",
    "     import matplotlib.pyplot as plt\n",
    "\n",
    "     sns.heatmap(correlation_matrix, annot=True, cmap=\"coolwarm\")\n",
    "     plt.show()\n",
    "     ```\n",
    "\n",
    "### Example Code\n",
    "Here’s the complete implementation:"
   ]
  },
  {
   "cell_type": "code",
   "execution_count": 9,
   "id": "6fad9cca-023e-4d51-967d-4084d9866193",
   "metadata": {},
   "outputs": [
    {
     "name": "stdout",
     "output_type": "stream",
     "text": [
      "Pearson Correlation Matrix:\n",
      "                     IMDb  Rotten Tomatoes   Runtime      Year\n",
      "IMDb             1.000000         0.617089  0.200589 -0.122601\n",
      "Rotten Tomatoes  0.617089         1.000000  0.003734 -0.058060\n",
      "Runtime          0.200589         0.003734  1.000000  0.026174\n",
      "Year            -0.122601        -0.058060  0.026174  1.000000\n"
     ]
    },
    {
     "data": {
      "image/png": "[encoded data removed]",
      "text/plain": [
       "<Figure size 640x480 with 2 Axes>"
      ]
     },
     "metadata": {},
     "output_type": "display_data"
    }
   ],
   "source": [
    "import pandas as pd\n",
    "\n",
    "# Load the dataset\n",
    "file_path = 'MoviesOnStreamingPlatforms_updated.csv'\n",
    "data = pd.read_csv(file_path)\n",
    "\n",
    "# Preprocessing\n",
    "data['Rotten Tomatoes'] = data['Rotten Tomatoes'].str.rstrip('%').astype('float') / 100  # Convert percentages to decimals\n",
    "numeric_columns = ['IMDb', 'Rotten Tomatoes', 'Runtime', 'Year']  # Select numeric columns\n",
    "data_cleaned = data[numeric_columns].dropna()  # Remove rows with missing values\n",
    "\n",
    "# Calculate Pearson correlation\n",
    "correlation_matrix = data_cleaned.corr(method='pearson')\n",
    "\n",
    "# Display the correlation matrix\n",
    "print(\"Pearson Correlation Matrix:\")\n",
    "print(correlation_matrix)\n",
    "\n",
    "# Correlation Between A Particular column \"Year\"\n",
    "#print(correlation_matrix[\"Year\"])\n",
    "\n",
    "# Visualizing Correlation\n",
    "import seaborn as sns\n",
    "\n",
    "import matplotlib.pyplot as plt\n",
    "sns.heatmap(correlation_matrix)\n",
    "plt.show()\n"
   ]
  },
  {
   "cell_type": "markdown",
   "id": "722f2043-2626-49fc-9e13-7882f8a5a1b2",
   "metadata": {},
   "source": [
    "# Key Observations\n",
    "\n",
    "### IMDb and Rotten Tomatoes:\n",
    "- **Correlation**: 0.617  \n",
    "  This indicates a moderately strong positive relationship between IMDb scores and Rotten Tomatoes ratings. Movies that score well on one platform tend to score well on the other.\n",
    "\n",
    "### IMDb and Runtime:\n",
    "- **Correlation**: 0.201  \n",
    "  There is a weak positive correlation, suggesting that slightly longer movies may receive better IMDb ratings, but the relationship is not strong.\n",
    "\n",
    "### IMDb and Year:\n",
    "- **Correlation**: -0.123  \n",
    "  A weak negative correlation implies that newer movies might receive slightly lower IMDb ratings, but the effect is minimal.\n",
    "\n",
    "### Rotten Tomatoes and Runtime:\n",
    "- **Correlation**: 0.004  \n",
    "  This near-zero correlation suggests that runtime has no significant effect on Rotten Tomatoes ratings.\n",
    "\n",
    "### Rotten Tomatoes and Year:\n",
    "- **Correlation**: -0.058  \n",
    "  A very weak negative correlation suggests almost no relationship between the year of release and Rotten Tomatoes scores.\n",
    "\n",
    "### Runtime and Year:\n",
    "- **Correlation**: 0.026  \n",
    "  A near-zero correlation indicates that movie runtime has remained consistent across the years, with no meaningful trend.\n"
   ]
  },
  {
   "cell_type": "markdown",
   "id": "60403ab2-aa40-41ef-8b87-212f5c5fb92a",
   "metadata": {},
   "source": [
    "# Summary and Next Steps\n",
    "\n",
    "### Summary\n",
    "The correlation between IMDb scores and Rotten Tomatoes ratings is **moderately strong** (0.617). This suggests a meaningful alignment between how the two platforms evaluate movies. While not perfect, the correlation indicates that movies with high ratings on one platform are likely to score well on the other.\n",
    "\n",
    "### Next Steps\n",
    "1. **Deeper Analysis**:\n",
    "   - Investigate specific genres or categories to see if the alignment is stronger for certain types of movies (e.g., dramas, comedies, action).\n",
    "   - Analyze discrepancies where the two platforms show significant differences in ratings.\n",
    "\n",
    "2. **Visualization**:\n",
    "   - Create a scatter plot to visually represent the relationship between IMDb scores and Rotten Tomatoes ratings.\n",
    "   - Highlight outliers to identify movies where ratings differ significantly between the two platforms.\n",
    "\n",
    "3. **Further Statistical Testing**:\n",
    "   - Perform a regression analysis to understand how Rotten Tomatoes ratings predict IMDb scores (or vice versa).\n",
    "   - Evaluate the residuals to identify potential patterns or biases in the data.\n",
    "\n",
    "4. **Exploration of Additional Factors**:\n",
    "   - Incorporate other variables like `Runtime`, `Year`, or `Streaming Platform` to see if they influence the alignment.\n",
    "   - Group data by year to explore how the correlation has evolved over time.\n",
    "\n",
    "By diving deeper, these steps will help uncover insights into the relationship between these two rating systems and provide a more comprehensive understanding of movie ratings.\n"
   ]
  },
  {
   "cell_type": "code",
   "execution_count": null,
   "id": "727b2c9f-ca97-4281-9a01-d66c658f7cdf",
   "metadata": {},
   "outputs": [],
   "source": []
  }
 ],
 "metadata": {
  "kernelspec": {
   "display_name": "Python 3 (ipykernel)",
   "language": "python",
   "name": "python3"
  },
  "language_info": {
   "codemirror_mode": {
    "name": "ipython",
    "version": 3
   },
   "file_extension": ".py",
   "mimetype": "text/x-python",
   "name": "python",
   "nbconvert_exporter": "python",
   "pygments_lexer": "ipython3",
   "version": "3.11.7"
  }
 },
 "nbformat": 4,
 "nbformat_minor": 5
}
